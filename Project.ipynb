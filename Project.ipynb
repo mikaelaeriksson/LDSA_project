{
 "cells": [
  {
   "cell_type": "code",
   "execution_count": 1,
   "metadata": {},
   "outputs": [],
   "source": [
    "from pyspark.sql import SparkSession\n",
    "\n",
    "# New API\n",
    "spark_session = SparkSession\\\n",
    "        .builder\\\n",
    "        .master(\"spark://192.168.2.211:7077\") \\\n",
    "        .appName(\"Marina_Mota_Project\")\\\n",
    "        .config(\"spark.dynamicAllocation.enabled\", False)\\\n",
    "        .config(\"spark.shuffle.service.enabled\", False)\\\n",
    "        .config(\"spark.dynamicAllocation.executorIdleTimeout\",\"30s\")\\\n",
    "        .config(\"spark.executor.cores\", 1)\\\n",
    "        .getOrCreate()\n",
    "\n",
    "# Old API (RDD)\n",
    "spark_context = spark_session.sparkContext"
   ]
  },
  {
   "cell_type": "code",
   "execution_count": 2,
   "metadata": {},
   "outputs": [],
   "source": [
    "df = spark_session.read.load(\"hdfs://localhost:9000/user/ubuntu/input/RC_2005-12.bz2\", format=\"json\")\n",
    "#file = spark_context.textFile(\"hdfs://localhost:9000/user/ubuntu/input/RC_2005-12.bz2\")"
   ]
  },
  {
   "cell_type": "code",
   "execution_count": 3,
   "metadata": {},
   "outputs": [
    {
     "name": "stdout",
     "output_type": "stream",
     "text": [
      "+----------+----------------------+-----------------+--------------------+----------------+-----------+-------------+------+------+---+--------+---------+------------+-----+--------+----------+------------+---+\n",
      "|    author|author_flair_css_class|author_flair_text|                body|controversiality|created_utc|distinguished|edited|gilded| id| link_id|parent_id|retrieved_on|score|stickied| subreddit|subreddit_id|ups|\n",
      "+----------+----------------------+-----------------+--------------------+----------------+-----------+-------------+------+------+---+--------+---------+------------+-----+--------+----------+------------+---+\n",
      "|      frjo|                  null|             null|A look at Vietnam...|               0| 1134365188|         null| false|     0|c13|t3_17863| t3_17863|  1473738411|    2|   false|reddit.com|        t5_6|  2|\n",
      "|   zse7zse|                  null|             null|The site states \"...|               0| 1134365725|         null| false|     0|c14|t3_17866| t3_17866|  1473738411|    1|   false|reddit.com|        t5_6|  1|\n",
      "| [deleted]|                  null|             null|Jython related to...|               0| 1134366848|         null| false|     0|c15|t3_17869| t3_17869|  1473738411|    0|   false|reddit.com|        t5_6|  0|\n",
      "| [deleted]|                  null|             null|           [deleted]|               0| 1134367660|         null| false|     0|c16|t3_17870| t3_17870|  1473738411|    1|   false|reddit.com|        t5_6|  1|\n",
      "|   rjoseph|                  null|             null|Saft is by far th...|               0| 1134367754|         null| false|     0|c17|t3_17817| t3_17817|  1473738411|    1|   false|reddit.com|        t5_6|  1|\n",
      "| [deleted]|                  null|             null|           [deleted]|               0| 1134368231|         null| false|     0|c18|t3_17710| t3_17710|  1473738411|   -6|   false|reddit.com|        t5_6| -6|\n",
      "|  cavedave|                  null|             null|How to take panor...|               0| 1134371050|         null| false|     0|c19|t3_17876| t3_17876|  1473738411|    1|   false|reddit.com|        t5_6|  1|\n",
      "|      b0se|                  null|             null|I donât know wh...|               0| 1134371664|         null| false|     0|c20|t3_17878| t3_17878|  1473738413|    1|   false|reddit.com|        t5_6|  1|\n",
      "|     damir|                  null|             null|LinkIt by Marc, a...|               0| 1134375273|         null| false|     0|c21|t3_17890| t3_17890|  1473738413|    1|   false|reddit.com|        t5_6|  1|\n",
      "|richardk74|                  null|             null|Making websites r...|               0| 1134380167|         null| false|     0|c22|t3_17901| t3_17901|  1473738413|    1|   false|reddit.com|        t5_6|  1|\n",
      "|  kn0thing|                  null|             null|On the bright sid...|               0| 1134381378|         null| false|     0|c24|t3_17830| t3_17830|  1473738413|    1|   false|reddit.com|        t5_6|  1|\n",
      "|   bugbear|                  null|             null|Like a lot of peo...|               0| 1134384119|         null| false|     0|c26|t3_17844| t3_17844|  1473738413|    8|   false|reddit.com|        t5_6|  8|\n",
      "| [deleted]|                  null|             null|This is comment t...|               0| 1134385225|         null| false|     0|c27|t3_17844| t3_17844|  1473738413|  -16|   false|reddit.com|        t5_6|-16|\n",
      "| [deleted]|                  null|             null|           [deleted]|               1| 1134386131|         null| false|     0|c29|t3_17844| t3_17844|  1473738413|    0|   false|reddit.com|        t5_6|  0|\n",
      "| [deleted]|                  null|             null|           [deleted]|               1| 1134386182|         null| false|     0|c30|t3_17844| t3_17844|  1473738413|   -2|   false|reddit.com|        t5_6| -2|\n",
      "| [deleted]|                  null|             null|           [deleted]|               1| 1134386193|         null| false|     0|c31|t3_17844| t3_17844|  1473738413|   -6|   false|reddit.com|        t5_6| -6|\n",
      "| [deleted]|                  null|             null|           [deleted]|               1| 1134386254|         null| false|     0|c32|t3_17844| t3_17844|  1473738413|   -4|   false|reddit.com|        t5_6| -4|\n",
      "|   AaronSw|                  null|             null|It's a New York T...|               0| 1134386388|         null| false|     0|c33|t3_17844|   t1_c29|  1473738413|    3|   false|reddit.com|        t5_6|  3|\n",
      "|   AaronSw|                  null|             null|[Here's the copy ...|               0| 1134386498|         null| false|     0|c35|t3_17844|   t1_c33|  1473738413|   12|   false|reddit.com|        t5_6| 12|\n",
      "|  fnord123|                  null|             null|The best thing ab...|               1| 1134386557|         null| false|     0|c36|t3_17844| t3_17844|  1473738413|    5|   false|reddit.com|        t5_6|  5|\n",
      "+----------+----------------------+-----------------+--------------------+----------------+-----------+-------------+------+------+---+--------+---------+------------+-----+--------+----------+------------+---+\n",
      "only showing top 20 rows\n",
      "\n"
     ]
    }
   ],
   "source": [
    "df.show()"
   ]
  },
  {
   "cell_type": "code",
   "execution_count": 4,
   "metadata": {},
   "outputs": [],
   "source": [
    "# release the cores for another application!\n",
    "spark_context.stop()"
   ]
  },
  {
   "cell_type": "code",
   "execution_count": null,
   "metadata": {},
   "outputs": [],
   "source": []
  }
 ],
 "metadata": {
  "kernelspec": {
   "display_name": "Python 3",
   "language": "python",
   "name": "python3"
  },
  "language_info": {
   "codemirror_mode": {
    "name": "ipython",
    "version": 3
   },
   "file_extension": ".py",
   "mimetype": "text/x-python",
   "name": "python",
   "nbconvert_exporter": "python",
   "pygments_lexer": "ipython3",
   "version": "3.6.9"
  }
 },
 "nbformat": 4,
 "nbformat_minor": 2
}
